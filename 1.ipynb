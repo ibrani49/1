{
  "nbformat": 4,
  "nbformat_minor": 0,
  "metadata": {
    "colab": {
      "name": "Untitled1.ipynb",
      "provenance": [],
      "authorship_tag": "ABX9TyPQmDhxIghEzfYGwybBEr9g",
      "include_colab_link": true
    },
    "kernelspec": {
      "name": "python3",
      "display_name": "Python 3"
    }
  },
  "cells": [
    {
      "cell_type": "markdown",
      "metadata": {
        "id": "view-in-github",
        "colab_type": "text"
      },
      "source": [
        "<a href=\"https://colab.research.google.com/github/ibrani49/1/blob/master/1.ipynb\" target=\"_parent\"><img src=\"https://colab.research.google.com/assets/colab-badge.svg\" alt=\"Open In Colab\"/></a>"
      ]
    },
    {
      "cell_type": "code",
      "metadata": {
        "id": "Lyzdao8C-iKA",
        "colab_type": "code",
        "colab": {
          "base_uri": "https://localhost:8080/",
          "height": 360
        },
        "outputId": "80d4bfc7-d61e-4ba5-e659-483fca089ebb"
      },
      "source": [
        " # I avoid * imports most of the time\n",
        "# Plus there's no sense importing the whole module if you only need one function from it\n",
        "from random import sample\n",
        " \n",
        "a = ['menyayangkan','khawatir','cemas','suka','benci','suka banget','benci banget','cantik','ramai',\n",
        "    'tenang','rumit','mudah gampang','praktis','ga praktis','bahagia','terpesona','terkenal','aman',\n",
        "    'berbahaya','bervariasi','rapapa','penting','penting orang',\n",
        "    'jangan','aneh','sia-sia','mendadak','pandai','tidak pandai','senggang',\n",
        "    'kasian deh','megah patut dihormati','berat hal','enteng','mustahil',\n",
        "    'modis','sopan','ramah','ganteng','rajin jujur','ra rajin ra jujur','gasuka','sungguh2','populer',\n",
        "    'mengganggu','cukup','kuat ulet','tepat sesuai','khusus special','bebas','lurus','dengan kesungguhan','perlu',\n",
        "    'lain beda','ajaib','mewah','sama','tradisional','aktif','setia','egois',\n",
        "    'keras kepala','jujur polos','tegaan','gamau kalah','sensitifan', \n",
        "    \n",
        " \n",
        " \n",
        "    'besar','kecil','panjang','pendek','banyak','sedikit','gemuk','ramping','tebal','tipis',\n",
        "    'keras','soft','berat','ringan','detail','sulit','user friendly, simpel','langka',\n",
        "    'lucu aneh','gawat','enak pandai','bagus','jelek','kejam','brisik','sibuk',\n",
        "    'baru','lama, tua','panas(suhu)','dingin(suhu)','enak makanan','tidak enak makanan','cepat (waktu,kelajuan)','lambat','mahal','murah',\n",
        "    'biru','merah','kuning','hitam','putih','coklat','kuat','lemah',\n",
        "    'kecil (uang)','kasar','jauh','dekat','tinggi','rendah',\n",
        "    'panas makanan','dingin maknanan','hangat makanan','tidak panas tidak dingin (air)',\n",
        "    'terang','gelap','kotor','hangat(suhu)','sejuk(suhu)','panas gerah(suhu)',\n",
        "    'bundar bulat','benar','hebat','luar biasa','keren','pintar','rukun','akrab','baik hati ramah','imut',\n",
        "    'indah','tegas','lemah lembut','menyenangkan','menarik lucu','membosankan','senang','kesepian',\n",
        "    'takut','sedih','malu','iri hati','terkenang','ngantuk','sakit','ingin mendapatkan','tidak ada',\n",
        "    'manis','pedas','asam','asin','pahit','pekat','encer rasa']\n",
        " \n",
        "b = ['zannen na','shinpai na','fuan na','suki na','kirai na','daisuki na','daikirai na','kiree na','nigiyaka na',\n",
        "    'shizuka na','fukuzatsu na','kantan na','benri na','fuben na','shiawase na','suteki na','yuumee na','anzen na', #9\n",
        "    'kiken na','iroiro na','daijoobu na','daiji na','taisetsu na',\n",
        "    'dame na','hen na','muda na','kyuu na','joozu na','heta na','hima na',\n",
        "    'kawaisoo na','rippa na','taihen na','raku na','muri na',\n",
        "    'oshare na','teenee na','shinsetsu na','hansamu na','majime na','fumajime na','iya na','isshokenmee na','sakan na',#8\n",
        "    'jama na','juubun na','joobu na','tekitoo na','tokubetsu na','jiyuu na','massugu na','nesshin na','hitsuyoo na',#9\n",
        "    'betsu na','fushigi na','gooka na','onaji na','dentoteki na','kappatsu na','seejitsu na','wagamama na',#8\n",
        "    'ganko na','sunao na','ijiwaru na','kachiki na','shinkeeshitsu na',\n",
        " \n",
        " \n",
        " \n",
        "    'ooki','chiisai','nagai','mijikai','ooi','sukunai','futoi','hosoi','atsui','usui', #10\n",
        "    'katai','yawarakai','omoi','karui','kuwashii','mezukashii','yasashii','mezurashii', #8\n",
        "    'okashii','abunai','umai','ii','warui','hidoi','urusai','isogashii',                #8\n",
        "    'atarashii','furui','atsui','samui','oishii','mazui','hayai','osoi','takai','yasui',#10\n",
        "    'aoi','akai','kiiroi','kuroi','shiroi','chairoi','tsuyoi','yowai',                  #8\n",
        "    'komakai','arai','tooi','chikai','takai','hikui',                                   #6\n",
        "    'atsui','tsumetai','atatakai','nurui',                                              #4    \n",
        "    'akarui','kurai','kitanai','atatakai','suzushii','mushiatsui',                      #6\n",
        "    'marui','tadashii','sugoi','subarashii','kakkoi','erai','nakagaii','shitashii','yasashii','kawaii',\n",
        "    'utsukushii','kibishii','otonashii','tanoshii','omoshiroi','tsumaranai','ureshii','sabishii',\n",
        "    'kowai','kanashii','hazukashii','urayamashii','natsukashii','nemui','itai','hoshii','nai', \n",
        "    'amai','karai','suppai','shiokarai','nigai','koi','usui']  #5 31\n",
        " \n",
        " \n",
        "num_right = 0\n",
        " \n",
        "key = list(zip(a, b))\n",
        "k = 160\n",
        "s = sample(key, k)\n",
        " \n",
        "for i in s:\n",
        "    # in each \"i\" tuple [0] is the question, [1] is the answer\n",
        "    print(i[0])\n",
        "    user_answer = input('Jawaban: ')\n",
        "    if user_answer.lower() == i[1].lower():\n",
        "        print('Correct!!!')\n",
        "        print(\"\\n\")\n",
        "        num_right += 1\n",
        "    else:\n",
        "        print('Harusnya','[',i[1].lower(),']=========================================================================================')\n",
        "        print()\n",
        "        print(\"\\n\")\n",
        " \n",
        "print('{}  Questions Correct'.format(num_right))\n",
        "print(\"of {} Question\".format(k) )\n",
        "print(\"{:.2f}% Correct\".format((num_right/k)*100))"
      ],
      "execution_count": null,
      "outputs": [
        {
          "output_type": "stream",
          "text": [
            "benar\n",
            "Jawaban: Tadashii\n",
            "Correct!!!\n",
            "\n",
            "\n",
            "suka\n",
            "Jawaban: Suki\n",
            "Harusnya [ suki na ]=========================================================================================\n",
            "\n",
            "\n",
            "\n",
            "ra rajin ra jujur\n",
            "Jawaban: Fumajime\n",
            "Harusnya [ fumajime na ]=========================================================================================\n",
            "\n",
            "\n",
            "\n",
            "brisik\n"
          ],
          "name": "stdout"
        }
      ]
    }
  ]
}